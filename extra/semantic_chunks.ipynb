{
 "cells": [
  {
   "cell_type": "code",
   "execution_count": 47,
   "metadata": {},
   "outputs": [
    {
     "name": "stdout",
     "output_type": "stream",
     "text": [
      "《关于 19 世纪西藏与森巴战争的几个问题》。\n",
      "关于然吉森、索热森和谷朗森。\n",
      "问题：在清道光二十一年（1841 年）西藏与森巴战争中，驻藏大臣孟保的奏折中提到\"然吉森\"\"索热森\"\"谷朗森\"，它们的语源是什么，具体指什么？。\n",
      "结论：\"然吉森\" 应指 19 世纪初在印度北部旁遮普一带建立的锡克王国，是以其统治者兰吉特・辛格之名的异译来代表该王国；\"谷郎森\" 是锡克王国所属的查谟土邦统治者道格拉人古拉伯・辛格名的异译，指查谟道格拉人；\"索热森\" 则为 \"佐尔阿弗尔・辛格\" 的异译，指查谟古拉伯・辛格所属基希德瓦尔等地所设省区。。\n",
      "西藏森巴战争最后一战谁是胜者。\n",
      "问题：道光二十二年（1842 年）\n",
      "四月，藏军退至班公湖南的咙沃玛，双方在此进行了最后一次决战，哪方获胜？。\n",
      "结论：中国西藏方面资料，如驻藏大臣孟保奏疏及部分藏族学者观点认为藏军获胜，森巴派小头目求和并具结永不滋事；但也有藏族学者如恰白・次旦平措等撰《西藏通史 —— 松石宝串》认为此役西藏军战败，比喜等人被俘。\n",
      "印度、克什米尔及西方一些论著则称，迪万追击藏军到兵营附近并包围了兵营，藏军退入兵营坚守，道格拉人无计可施，未明确表明胜负。\n"
     ]
    }
   ],
   "source": [
    "import spacy\n",
    "nlp = spacy.load(\"zh_core_web_sm\")\n",
    "\n",
    "text = \"\"\"《关于 19 世纪西藏与森巴战争的几个问题》\n",
    "关于然吉森、索热森和谷朗森\n",
    "问题：在清道光二十一年（1841 年）西藏与森巴战争中，驻藏大臣孟保的奏折中提到\"然吉森\"\"索热森\"\"谷朗森\"，它们的语源是什么，具体指什么？\n",
    "结论：\"然吉森\" 应指 19 世纪初在印度北部旁遮普一带建立的锡克王国，是以其统治者兰吉特・辛格之名的异译来代表该王国；\"谷郎森\" 是锡克王国所属的查谟土邦统治者道格拉人古拉伯・辛格名的异译，指查谟道格拉人；\"索热森\" 则为 \"佐尔阿弗尔・辛格\" 的异译，指查谟古拉伯・辛格所属基希德瓦尔等地所设省区。\n",
    "西藏森巴战争最后一战谁是胜者\n",
    "问题：道光二十二年（1842 年）四月，藏军退至班公湖南的咙沃玛，双方在此进行了最后一次决战，哪方获胜？\n",
    "结论：中国西藏方面资料，如驻藏大臣孟保奏疏及部分藏族学者观点认为藏军获胜，森巴派小头目求和并具结永不滋事；但也有藏族学者如恰白・次旦平措等撰《西藏通史 —— 松石宝串》认为此役西藏军战败，比喜等人被俘。印度、克什米尔及西方一些论著则称，迪万追击藏军到兵营附近并包围了兵营，藏军退入兵营坚守，道格拉人无计可施，未明确表明胜负。\"\"\"\n",
    "\n",
    "# 将换行符替换为句号\n",
    "text_with_periods = text.replace(\"\\n\", \"。\")\n",
    "\n",
    "doc = nlp(text_with_periods)\n",
    "sentences = [sent.text for sent in doc.sents]\n",
    "\n",
    "for sentence in sentences:\n",
    "    print(sentence)"
   ]
  },
  {
   "cell_type": "code",
   "execution_count": 43,
   "metadata": {},
   "outputs": [
    {
     "name": "stdout",
     "output_type": "stream",
     "text": [
      "1\n",
      "《关于 19 世纪西藏与森巴战争的几个问题》\n",
      "关于然吉森、索热森和谷朗森\n",
      "问题：在清道光二十一年（1841 年）西藏与森巴战争中，驻藏大臣孟保的奏折中提到\"然吉森\"\"索热森\"\"谷朗森\"，它们的语源是什么，具体指什么？\n",
      "1\n",
      "结论：\"然吉森\" 应指 19 世纪初在印度北部旁遮普一带建立的锡克王国，是以其统治者兰吉特・辛格之名的异译来代表该王国；\"谷郎森\" 是锡克王国所属的查谟土邦统治者道格拉人古拉伯・辛格名的异译，指查谟道格拉人；\"索热森\" 则为 \"佐尔阿弗尔・辛格\" 的异译，指查谟古拉伯・辛格所属基希德瓦尔等地所设省区。\n",
      "1\n",
      "西藏森巴战争最后一战谁是胜者\n",
      "问题：道光二十二年（1842 年）\n",
      "1\n",
      "四月，藏军退至班公湖南的咙沃玛，双方在此进行了最后一次决战，哪方获胜？\n",
      "1\n",
      "结论：中国西藏方面资料，如驻藏大臣孟保奏疏及部分藏族学者观点认为藏军获胜，森巴派小头目求和并具结永不滋事；但也有藏族学者如恰白・次旦平措等撰《西藏通史 —— 松石宝串》认为此役西藏军战败，比喜等人被俘。\n",
      "1\n",
      "印度、克什米尔及西方一些论著则称，迪万追击藏军到兵营附近并包围了兵营，藏军退入兵营坚守，道格拉人无计可施，未明确表明胜负。\n"
     ]
    }
   ],
   "source": [
    "doc1 = nlp(text)\n",
    "sentences = [sent.text.strip() for sent in doc1.sents if len(sent.text.strip()) > 0]\n",
    "for sentence in sentences:\n",
    "    print(\"1\")\n",
    "    print(sentence)"
   ]
  },
  {
   "cell_type": "code",
   "execution_count": 48,
   "metadata": {},
   "outputs": [],
   "source": [
    "# 示例：用Sentence-BERT生成嵌入\n",
    "from sentence_transformers import SentenceTransformer\n",
    "# 初始化模型\n",
    "model_path = \"../models\"  # 本地模型路径\n",
    "model = SentenceTransformer(model_path)  # 在程序开始时加载模型\n",
    "embeddings = model.encode(sentences)"
   ]
  },
  {
   "cell_type": "code",
   "execution_count": 61,
   "metadata": {},
   "outputs": [],
   "source": [
    "from sklearn.metrics.pairwise import cosine_similarity\n",
    "\n",
    "threshold = 0.35\n",
    "chunks = []\n",
    "current_chunk = [sentences[0]]\n",
    "current_embedding = embeddings[0].reshape(1, -1)\n",
    "\n",
    "for i in range(1, len(sentences)):\n",
    "    next_embedding = embeddings[i].reshape(1, -1)\n",
    "    similarity = cosine_similarity(current_embedding, next_embedding)[0][0]\n",
    "    if similarity > threshold:\n",
    "        current_chunk.append(sentences[i])\n",
    "        current_embedding = (current_embedding + next_embedding) / 2  # 更新为合并后的平均嵌入\n",
    "    else:\n",
    "        chunks.append(\" \".join(current_chunk))\n",
    "        current_chunk = [sentences[i]]\n",
    "        current_embedding = next_embedding\n",
    "chunks.append(\" \".join(current_chunk))  # 添加最后一个块"
   ]
  },
  {
   "cell_type": "code",
   "execution_count": 62,
   "metadata": {},
   "outputs": [
    {
     "name": "stdout",
     "output_type": "stream",
     "text": [
      "分块结果示例:\n",
      "Chunk 1: 《关于 19 世纪西藏与森巴战争的几个问题》。\n",
      "\n",
      "Chunk 2: 关于然吉森、索热森和谷朗森。 问题：在清道光二十一年（1841 年）西藏与森巴战争中，驻藏大臣孟保的奏折中提到\"然吉森\"\"索热森\"\"谷朗森\"，它们的语源是什么，具体指什么？。 结论：\"然吉森\" 应指 19 世纪初在印度北部旁遮普一带建立的锡克王国，是以其统治者兰吉特・辛格之名的异译来代表该王国；\"谷郎森\" 是锡克王国所属的查谟土邦统治者道格拉人古拉伯・辛格名的异译，指查谟道格拉人；\"索热森\" 则为 \"佐尔阿弗尔・辛格\" 的异译，指查谟古拉伯・辛格所属基希德瓦尔等地所设省区。。 西藏森巴战争最后一战谁是胜者。 问题：道光二十二年（1842 年） 四月，藏军退至班公湖南的咙沃玛，双方在此进行了最后一次决战，哪方获胜？。 结论：中国西藏方面资料，如驻藏大臣孟保奏疏及部分藏族学者观点认为藏军获胜，森巴派小头目求和并具结永不滋事；但也有藏族学者如恰白・次旦平措等撰《西藏通史 —— 松石宝串》认为此役西藏军战败，比喜等人被俘。 印度、克什米尔及西方一些论著则称，迪万追击藏军到兵营附近并包围了兵营，藏军退入兵营坚守，道格拉人无计可施，未明确表明胜负。\n",
      "\n"
     ]
    }
   ],
   "source": [
    "print(\"分块结果示例:\")\n",
    "for i, chunk in enumerate(chunks):\n",
    "    print(f\"Chunk {i+1}: {chunk}\\n\")"
   ]
  }
 ],
 "metadata": {
  "kernelspec": {
   "display_name": "my_env",
   "language": "python",
   "name": "python3"
  },
  "language_info": {
   "codemirror_mode": {
    "name": "ipython",
    "version": 3
   },
   "file_extension": ".py",
   "mimetype": "text/x-python",
   "name": "python",
   "nbconvert_exporter": "python",
   "pygments_lexer": "ipython3",
   "version": "3.10.16"
  },
  "orig_nbformat": 4
 },
 "nbformat": 4,
 "nbformat_minor": 2
}
